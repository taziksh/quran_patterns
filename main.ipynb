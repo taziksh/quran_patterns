{
 "cells": [
  {
   "cell_type": "markdown",
   "metadata": {},
   "source": [
    "# Quranic Numeric Patterns Analysis\n",
    "\n",
    "This notebook aims to verify the numeric patterns related to the Bismillah, Ism, Allah, Rahman, and Rahim in the Quran, per the bullet points:\n",
    "\n",
    "1. Bismillah = 19 letters\n",
    "2. Ism (اسم) without contraction => 19 times\n",
    "3. Allah (الله) => 2698 times (19×142)\n",
    "   - with possible expansions\n",
    "4. Rahman (الرحمن) => 57 times (19×3)\n",
    "5. Rahim (الرحيم) => 114 times (19×6)\n",
    "6. And checks for the other well-known 19-based patterns:\n",
    "   - 114 chapters, 6346 total verses, cross-sum = 19, etc.\n",
    "   \n",
    "Depending on your Quran text file (and how morphological variants are handled), you may or may not exactly match the historical claims. This notebook provides a configurable approach to get as close as possible to those reported numbers."
   ]
  },
  {
   "cell_type": "code",
   "execution_count": 1,
   "metadata": {},
   "outputs": [],
   "source": [
    "import re\n",
    "from collections import Counter"
   ]
  },
  {
   "cell_type": "markdown",
   "metadata": {},
   "source": [
    "## Configuration\n",
    "Set up the configuration flags that control how the text is processed and analyzed."
   ]
  },
  {
   "cell_type": "code",
   "execution_count": 2,
   "metadata": {},
   "outputs": [],
   "source": [
    "# Configuration Flags\n",
    "STRIP_DIACRITICS = True\n",
    "REMOVE_NON_ARABIC = True\n",
    "ALLAH_MODE = \"both\"  # Options: \"strict\", \"expanded\", \"both\"\n",
    "DEBUG = False"
   ]
  },
  {
   "cell_type": "markdown",
   "metadata": {},
   "source": [
    "## Regex Patterns\n",
    "Define the regular expression patterns for matching various words."
   ]
  },
  {
   "cell_type": "code",
   "execution_count": 13,
   "metadata": {},
   "outputs": [],
   "source": [
    "# Regex Patterns\n",
    "PATTERN_ISM = [r\"\\bاسم\\b\"]\n",
    "\n",
    "ALLAH_PATTERNS_STRICT = [r\"\\bالله\\b\"]\n",
    "ALLAH_PATTERNS_EXPANDED = [\n",
    "    r\"\\bالله\\b\",     # standalone\n",
    "    r\"\\bاللهم\\b\",    # vocative\n",
    "    r\"\\bبالله\\b\",\n",
    "    r\"\\bوالله\\b\",\n",
    "    r\"\\bفلله\\b\",\n",
    "    r\"\\bتالله\\b\"\n",
    "]\n",
    "\n",
    "PATTERN_RAHMAN = [r\"\\bالرحمن\\b\"]\n",
    "PATTERN_RAHIM  = [r\"\\bالرحيم\\b\"]\n",
    "\n",
    "# Known bullet-point references\n",
    "chapters = 114\n",
    "verses = 6346\n",
    "cross_sum_verses = sum(map(int, str(verses)))"
   ]
  },
  {
   "cell_type": "markdown",
   "metadata": {},
   "source": [
    "## Helper Functions\n",
    "Define the functions needed for text processing and analysis."
   ]
  },
  {
   "cell_type": "code",
   "execution_count": 14,
   "metadata": {},
   "outputs": [],
   "source": [
    "def load_text_file(filename):\n",
    "    \"\"\"Load a text file and return its contents as a single string.\"\"\"\n",
    "    with open(filename, \"r\", encoding=\"utf-8\") as f:\n",
    "        return f.read()\n",
    "\n",
    "def preprocess_text(text):\n",
    "    \"\"\"Preprocess the Quranic text based on configuration flags.\"\"\"\n",
    "    if REMOVE_NON_ARABIC:\n",
    "        text = re.sub(r\"[^\\u0600-\\u06FF\\s]\", \"\", text)\n",
    "    \n",
    "    if STRIP_DIACRITICS:\n",
    "        diacritics_regex = re.compile(r\"[\\u064B-\\u0652\\u0670\\u06D6-\\u06ED]\")\n",
    "        text = diacritics_regex.sub(\"\", text)\n",
    "    \n",
    "    return re.sub(r\"\\s+\", \" \", text).strip()\n",
    "\n",
    "def count_occurrences_regex(text, patterns):\n",
    "    \"\"\"Count total matches across multiple regex patterns.\"\"\"\n",
    "    total = 0\n",
    "    for pat in patterns:\n",
    "        matches = re.findall(pat, text)\n",
    "        match_count = len(matches)\n",
    "        total += match_count\n",
    "        if DEBUG:\n",
    "            print(f\"[DEBUG] Pattern '{pat}' found {match_count} matches.\")\n",
    "    return total\n",
    "\n",
    "def count_allah(text):\n",
    "    \"\"\"Count 'Allah' occurrences based on ALLAH_MODE configuration.\"\"\"\n",
    "    strict_count = count_occurrences_regex(text, ALLAH_PATTERNS_STRICT)\n",
    "    expanded_count = count_occurrences_regex(text, ALLAH_PATTERNS_EXPANDED)\n",
    "    \n",
    "    if ALLAH_MODE == \"strict\":\n",
    "        return strict_count\n",
    "    elif ALLAH_MODE == \"expanded\":\n",
    "        return expanded_count\n",
    "    else:\n",
    "        return (strict_count, expanded_count)\n",
    "\n",
    "def verify_bismillah_letters():\n",
    "    \"\"\"Verify the Bismillah letter count.\"\"\"\n",
    "    bismillah = \"بسم الله الرحمن الرحيم\"\n",
    "    processed_bismillah = preprocess_text(bismillah)\n",
    "    return sum(1 for c in processed_bismillah if c.isalpha())"
   ]
  },
  {
   "cell_type": "markdown",
   "metadata": {},
   "source": [
    "## Analysis\n",
    "Run the analysis on the Quranic text."
   ]
  },
  {
   "cell_type": "code",
   "execution_count": 15,
   "metadata": {},
   "outputs": [
    {
     "name": "stdout",
     "output_type": "stream",
     "text": [
      "Bismillah letter count (should be 19): 19\n",
      "\n",
      "--- WORD COUNTS ---\n",
      "Ism (اسم) [No pronoun forms]: 14\n",
      "Allah (الله) [Strict]: 2265\n",
      "Allah (الله) [Expanded]: 2663\n",
      "Rahman (الرحمن): 0\n",
      "Rahim (الرحيم): 146\n"
     ]
    }
   ],
   "source": [
    "# Load and preprocess text\n",
    "raw_text = load_text_file(\"quran-simple.txt\")\n",
    "prepped_text = preprocess_text(raw_text)\n",
    "\n",
    "# Verify Bismillah letter count\n",
    "bismillah_letter_count = verify_bismillah_letters()\n",
    "print(f\"Bismillah letter count (should be 19): {bismillah_letter_count}\")\n",
    "\n",
    "# Count occurrences\n",
    "ism_count    = count_occurrences_regex(prepped_text, PATTERN_ISM)\n",
    "allah_count  = count_allah(prepped_text)\n",
    "rahman_count = count_occurrences_regex(prepped_text, PATTERN_RAHMAN)\n",
    "rahim_count  = count_occurrences_regex(prepped_text, PATTERN_RAHIM)\n",
    "\n",
    "print(\"\\n--- WORD COUNTS ---\")\n",
    "print(f\"Ism (اسم) [No pronoun forms]: {ism_count}\")\n",
    "if isinstance(allah_count, tuple):\n",
    "    strict, expanded = allah_count\n",
    "    print(f\"Allah (الله) [Strict]: {strict}\")\n",
    "    print(f\"Allah (الله) [Expanded]: {expanded}\")\n",
    "else:\n",
    "    print(f\"Allah (الله): {allah_count}\")\n",
    "\n",
    "print(f\"Rahman (الرحمن): {rahman_count}\")\n",
    "print(f\"Rahim (الرحيم): {rahim_count}\")"
   ]
  },
  {
   "cell_type": "markdown",
   "metadata": {},
   "source": [
    "## Known Patterns\n",
    "Display the known 19-based patterns from the historical claims."
   ]
  },
  {
   "cell_type": "code",
   "execution_count": 20,
   "metadata": {},
   "outputs": [
    {
     "name": "stdout",
     "output_type": "stream",
     "text": [
      "Defaulting to user installation because normal site-packages is not writeable\n",
      "Collecting tabulate\n",
      "  Using cached tabulate-0.9.0-py3-none-any.whl (35 kB)\n",
      "Installing collected packages: tabulate\n",
      "Successfully installed tabulate-0.9.0\n",
      "\u001b[33mWARNING: You are using pip version 21.2.4; however, version 24.3.1 is available.\n",
      "You should consider upgrading via the '/Library/Developer/CommandLineTools/usr/bin/python3 -m pip install --upgrade pip' command.\u001b[0m\n",
      "Note: you may need to restart the kernel to use updated packages.\n"
     ]
    }
   ],
   "source": [
    "pip install tabulate"
   ]
  },
  {
   "cell_type": "code",
   "execution_count": 22,
   "metadata": {},
   "outputs": [
    {
     "name": "stdout",
     "output_type": "stream",
     "text": [
      "+-------------------+------------+----------+-----------+\n",
      "| Pattern           |   Expected |   Actual | Matches   |\n",
      "+===================+============+==========+===========+\n",
      "| Bismillah Letters |         19 |       19 | ✓         |\n",
      "+-------------------+------------+----------+-----------+\n",
      "| Ism Count         |         19 |       14 | ✗         |\n",
      "+-------------------+------------+----------+-----------+\n",
      "| Allah Count       |       2698 |     2265 | ✗         |\n",
      "+-------------------+------------+----------+-----------+\n",
      "| Rahman Count      |         57 |        0 | ✗         |\n",
      "+-------------------+------------+----------+-----------+\n",
      "| Rahim Count       |        114 |      146 | ✗         |\n",
      "+-------------------+------------+----------+-----------+\n",
      "| Total Chapters    |        114 |      114 | ✓         |\n",
      "+-------------------+------------+----------+-----------+\n",
      "| Total Verses      |       6346 |     6346 | ✓         |\n",
      "+-------------------+------------+----------+-----------+\n",
      "| Verses Cross Sum  |         19 |       19 | ✓         |\n",
      "+-------------------+------------+----------+-----------+\n",
      "\n",
      "Total matches: 4/8 claims verified\n"
     ]
    }
   ],
   "source": [
    "from tabulate import tabulate\n",
    "\n",
    "def verify_claims():\n",
    "    claims = [\n",
    "        [\"Bismillah Letters\", 19, bismillah_letter_count],\n",
    "        [\"Ism Count\", 19, ism_count],\n",
    "        [\"Allah Count\", 2698, allah_count[0] if isinstance(allah_count, tuple) else allah_count],\n",
    "        [\"Rahman Count\", 57, rahman_count],\n",
    "        [\"Rahim Count\", 114, rahim_count],\n",
    "        [\"Total Chapters\", 114, chapters],\n",
    "        [\"Total Verses\", 6346, verses],\n",
    "        [\"Verses Cross Sum\", 19, cross_sum_verses]\n",
    "    ]\n",
    "    \n",
    "    # Add \"Matches\" column and calculate total matches\n",
    "    table_data = []\n",
    "    matches = 0\n",
    "    for claim in claims:\n",
    "        matches += (claim[1] == claim[2])\n",
    "        table_data.append([\n",
    "            claim[0],          # Pattern Name\n",
    "            claim[1],          # Expected\n",
    "            claim[2],          # Actual\n",
    "            \"✓\" if claim[1] == claim[2] else \"✗\"  # Match symbol\n",
    "        ])\n",
    "    \n",
    "    print(tabulate(table_data, \n",
    "                  headers=[\"Pattern\", \"Expected\", \"Actual\", \"Matches\"],\n",
    "                  tablefmt=\"grid\"))\n",
    "    print(f\"\\nTotal matches: {matches}/{len(claims)} claims verified\")\n",
    "\n",
    "verify_claims()"
   ]
  },
  {
   "cell_type": "code",
   "execution_count": 24,
   "metadata": {},
   "outputs": [
    {
     "name": "stdout",
     "output_type": "stream",
     "text": [
      "Rahman count: 0\n",
      "Rahim count: 146\n"
     ]
    }
   ],
   "source": [
    "# Regex for \"الرحمن\"\n",
    "REGEX_RAHMAN = (\n",
    "    r\"(?<![ء-ي])\"          # negative lookbehind: no Arabic letter before\n",
    "    r\"ا[\\u064B-\\u0652\\u0670\\u06D6-\\u06ED]*\"  # Alef + optional diacritics\n",
    "    r\"ل[\\u064B-\\u0652\\u0670\\u06D6-\\u06ED]*\"  # Lam + optional diacritics\n",
    "    r\"ر[\\u064B-\\u0652\\u0670\\u06D6-\\u06ED]*\"  # Ra + optional diacritics\n",
    "    r\"ح[\\u064B-\\u0652\\u0670\\u06D6-\\u06ED]*\"  # Ha + optional diacritics\n",
    "    r\"م[\\u064B-\\u0652\\u0670\\u06D6-\\u06ED]*\"  # Meem + optional diacritics\n",
    "    r\"ن[\\u064B-\\u0652\\u0670\\u06D6-\\u06ED]*\"  # Noon + optional diacritics\n",
    "    r\"(?![ء-ي])\"           # negative lookahead: no Arabic letter after\n",
    ")\n",
    "\n",
    "# Regex for \"الرحيم\"\n",
    "REGEX_RAHIM = (\n",
    "    r\"(?<![ء-ي])\"\n",
    "    r\"ا[\\u064B-\\u0652\\u0670\\u06D6-\\u06ED]*\"\n",
    "    r\"ل[\\u064B-\\u0652\\u0670\\u06D6-\\u06ED]*\"\n",
    "    r\"ر[\\u064B-\\u0652\\u0670\\u06D6-\\u06ED]*\"\n",
    "    r\"ح[\\u064B-\\u0652\\u0670\\u06D6-\\u06ED]*\"\n",
    "    r\"ي[\\u064B-\\u0652\\u0670\\u06D6-\\u06ED]*\"\n",
    "    r\"م[\\u064B-\\u0652\\u0670\\u06D6-\\u06ED]*\"\n",
    "    r\"(?![ء-ي])\"\n",
    ")\n",
    "\n",
    "PATTERN_RAHMAN = [REGEX_RAHMAN]\n",
    "PATTERN_RAHIM  = [REGEX_RAHIM]\n",
    "\n",
    "def count_occurrences_regex(text, patterns):\n",
    "    total = 0\n",
    "    for pat in patterns:\n",
    "        matches = re.findall(pat, text)\n",
    "        total += len(matches)\n",
    "    return total\n",
    "\n",
    "rahman_count = count_occurrences_regex(prepped_text, PATTERN_RAHMAN)\n",
    "rahim_count  = count_occurrences_regex(prepped_text, PATTERN_RAHIM)\n",
    "\n",
    "print(\"Rahman count:\", rahman_count)\n",
    "print(\"Rahim count:\", rahim_count)\n"
   ]
  },
  {
   "cell_type": "code",
   "execution_count": 25,
   "metadata": {},
   "outputs": [
    {
     "name": "stdout",
     "output_type": "stream",
     "text": [
      "False\n"
     ]
    }
   ],
   "source": [
    "# Quick check: does \"سورة الرحمن\" exist at all?\n",
    "print(\"سورة الرحمن\" in raw_text)\n"
   ]
  },
  {
   "cell_type": "code",
   "execution_count": null,
   "metadata": {},
   "outputs": [],
   "source": []
  }
 ],
 "metadata": {
  "kernelspec": {
   "display_name": "Python 3",
   "language": "python",
   "name": "python3"
  },
  "language_info": {
   "codemirror_mode": {
    "name": "ipython",
    "version": 3
   },
   "file_extension": ".py",
   "mimetype": "text/x-python",
   "name": "python",
   "nbconvert_exporter": "python",
   "pygments_lexer": "ipython3",
   "version": "3.9.6"
  }
 },
 "nbformat": 4,
 "nbformat_minor": 4
}
